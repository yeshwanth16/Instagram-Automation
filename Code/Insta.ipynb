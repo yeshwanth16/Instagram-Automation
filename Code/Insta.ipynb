from selenium import webdriver
from time import sleep
from selenium.webdriver.support.ui import WebDriverWait

class Automate:
    def __init__(self, username, pw , username1):
        self.driver = webdriver.Chrome()
        self.username = username
        self.username1=username1
        self.driver.get("https://www.facebook.com/login.php?skip_api_login=1&api_key=124024574287414&kid_directed_site=0&app_id=124024574287414&signed_next=1&next=https%3A%2F%2Fwww.facebook.com%2Fdialog%2Foauth%3Fclient_id%3D124024574287414%26redirect_uri%3Dhttps%253A%252F%252Fwww.instagram.com%252Faccounts%252Fsignup%252F%26state%3D%257B%2522fbLoginKey%2522%253A%25221mm4w301cdpgjlcyc5jc1j0ki95rtlkh9gw75l110joj7a1xytudx%2522%252C%2522fbLoginReturnURL%2522%253A%2522%252F%2522%257D%26scope%3Demail%26response_type%3Dcode%252Cgranted_scopes%26locale%3Den_US%26ret%3Dlogin%26fbapp_pres%3D0%26logger_id%3De11e6bdc-1bdd-46c9-ab2a-e4d4aa534a73&cancel_url=https%3A%2F%2Fwww.instagram.com%2Faccounts%2Fsignup%2F%3Ferror%3Daccess_denied%26error_code%3D200%26error_description%3DPermissions%2Berror%26error_reason%3Duser_denied%26state%3D%257B%2522fbLoginKey%2522%253A%25221mm4w301cdpgjlcyc5jc1j0ki95rtlkh9gw75l110joj7a1xytudx%2522%252C%2522fbLoginReturnURL%2522%253A%2522%252F%2522%257D%23_%3D_&display=page&locale=en_GB&pl_dbl=0")
        sleep(2)
        self.driver.find_element_by_id("email")\
            .send_keys(username)
        sleep(1)
        self.driver.find_element_by_id("pass")\
            .send_keys(pw)
        self.driver.find_element_by_id("loginbutton")
        self.driver.find_element_by_xpath('//button[@type="submit"]')\
            .click()
        sleep(4)
        self.driver.find_element_by_xpath('//button[@class="sqdOP  L3NKy   y3zKF     "]')\
            .click()
        sleep(2)
        self.driver.find_element_by_xpath("//button[contains(text(), 'Not Now')]")\
            .click()
        sleep(2)
    def unfollowers(self):
        self.driver.find_element_by_xpath("//a[contains(@href,'/{}')]".format(self.username1))\
            .click()
        sleep(2)
        self.driver.find_element_by_xpath("//a[contains(@href,'/following')]")\
            .click()
        following = self.findusers()
        self.driver.find_element_by_xpath("//a[contains(@href,'/followers')]")\
            .click()
        followers = self.findusers()
        not_following_back = [user for user in following if user not in followers]
        print(not_following_back)
    def findusers(self):
        sleep(2)
        scroll_box = self.driver.find_element_by_xpath("/html/body/div[4]/div/div[2]")
        last_ht, ht = 0, 1
        while last_ht != ht:
            last_ht = ht
            sleep(1)
            ht = self.driver.execute_script("""
                arguments[0].scrollTo(0, arguments[0].scrollHeight); 
                return arguments[0].scrollHeight;
                """, scroll_box)
        links = scroll_box.find_elements_by_tag_name('a')
        names = [name.text for name in links if name.text != '']
        self.driver.find_element_by_xpath("/html/body/div[4]/div/div[1]/div/div[2]/button")\
            .click()
        return names
users=Automate('youremail_id', 'password','insta_username')
users.unfollowers()
