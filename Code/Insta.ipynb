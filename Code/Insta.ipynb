{
 "cells": [
  {
   "cell_type": "code",
   "execution_count": null,
   "metadata": {},
   "outputs": [],
   "source": [
    "from selenium import webdriver\n",
    "from time import sleep\n",
    "from selenium.webdriver.support.ui import WebDriverWait\n",
    "\n",
    "class Automate:\n",
    "    def __init__(self, username, pw , username1):\n",
    "        self.driver = webdriver.Chrome()\n",
    "        self.username = username\n",
    "        self.username1=username1\n",
    "        self.driver.get(\"https://www.facebook.com/login.php?skip_api_login=1&api_key=124024574287414&kid_directed_site=0&app_id=124024574287414&signed_next=1&next=https%3A%2F%2Fwww.facebook.com%2Fdialog%2Foauth%3Fclient_id%3D124024574287414%26redirect_uri%3Dhttps%253A%252F%252Fwww.instagram.com%252Faccounts%252Fsignup%252F%26state%3D%257B%2522fbLoginKey%2522%253A%25221mm4w301cdpgjlcyc5jc1j0ki95rtlkh9gw75l110joj7a1xytudx%2522%252C%2522fbLoginReturnURL%2522%253A%2522%252F%2522%257D%26scope%3Demail%26response_type%3Dcode%252Cgranted_scopes%26locale%3Den_US%26ret%3Dlogin%26fbapp_pres%3D0%26logger_id%3De11e6bdc-1bdd-46c9-ab2a-e4d4aa534a73&cancel_url=https%3A%2F%2Fwww.instagram.com%2Faccounts%2Fsignup%2F%3Ferror%3Daccess_denied%26error_code%3D200%26error_description%3DPermissions%2Berror%26error_reason%3Duser_denied%26state%3D%257B%2522fbLoginKey%2522%253A%25221mm4w301cdpgjlcyc5jc1j0ki95rtlkh9gw75l110joj7a1xytudx%2522%252C%2522fbLoginReturnURL%2522%253A%2522%252F%2522%257D%23_%3D_&display=page&locale=en_GB&pl_dbl=0\")\n",
    "        sleep(2)\n",
    "        self.driver.find_element_by_id(\"email\")\\\n",
    "            .send_keys(username)\n",
    "        sleep(1)\n",
    "        self.driver.find_element_by_id(\"pass\")\\\n",
    "            .send_keys(pw)\n",
    "        self.driver.find_element_by_id(\"loginbutton\")\n",
    "        self.driver.find_element_by_xpath('//button[@type=\"submit\"]')\\\n",
    "            .click()\n",
    "        sleep(4)\n",
    "        self.driver.find_element_by_xpath('//button[@class=\"sqdOP  L3NKy   y3zKF     \"]')\\\n",
    "            .click()\n",
    "        sleep(2)\n",
    "        self.driver.find_element_by_xpath(\"//button[contains(text(), 'Not Now')]\")\\\n",
    "            .click()\n",
    "        sleep(2)\n",
    "    def unfollowers(self):\n",
    "        self.driver.find_element_by_xpath(\"//a[contains(@href,'/{}')]\".format(self.username1))\\\n",
    "            .click()\n",
    "        sleep(2)\n",
    "        self.driver.find_element_by_xpath(\"//a[contains(@href,'/following')]\")\\\n",
    "            .click()\n",
    "        following = self.findusers()\n",
    "        self.driver.find_element_by_xpath(\"//a[contains(@href,'/followers')]\")\\\n",
    "            .click()\n",
    "        followers = self.findusers()\n",
    "        not_following_back = [user for user in following if user not in followers]\n",
    "        print(not_following_back)\n",
    "    def findusers(self):\n",
    "        sleep(2)\n",
    "        scroll_box = self.driver.find_element_by_xpath(\"/html/body/div[4]/div/div[2]\")\n",
    "        last_ht, ht = 0, 1\n",
    "        while last_ht != ht:\n",
    "            last_ht = ht\n",
    "            sleep(1)\n",
    "            ht = self.driver.execute_script(\"\"\"\n",
    "                arguments[0].scrollTo(0, arguments[0].scrollHeight); \n",
    "                return arguments[0].scrollHeight;\n",
    "                \"\"\", scroll_box)\n",
    "        links = scroll_box.find_elements_by_tag_name('a')\n",
    "        names = [name.text for name in links if name.text != '']\n",
    "        self.driver.find_element_by_xpath(\"/html/body/div[4]/div/div[1]/div/div[2]/button\")\\\n",
    "            .click()\n",
    "        return names\n",
    "users=Automate('youremail_id', 'password','insta_username')\n",
    "users.unfollowers()"
   ]
  }
 ],
 "metadata": {
  "kernelspec": {
   "display_name": "Python 3",
   "language": "python",
   "name": "python3"
  },
  "language_info": {
   "codemirror_mode": {
    "name": "ipython",
    "version": 3
   },
   "file_extension": ".py",
   "mimetype": "text/x-python",
   "name": "python",
   "nbconvert_exporter": "python",
   "pygments_lexer": "ipython3",
   "version": "3.7.0"
  }
 },
 "nbformat": 4,
 "nbformat_minor": 2
}
